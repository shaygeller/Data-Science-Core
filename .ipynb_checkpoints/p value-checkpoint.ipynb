{
 "cells": [
  {
   "cell_type": "markdown",
   "metadata": {},
   "source": [
    "# After completing this tutorial, you will know:"
   ]
  },
  {
   "cell_type": "markdown",
   "metadata": {},
   "source": [
    "1. What is p-value\n",
    "2. How to calulate it\n",
    "3. When to use it\n",
    "4. How it relates to Data Science"
   ]
  },
  {
   "cell_type": "markdown",
   "metadata": {},
   "source": [
    "# \"Meet Trinity\" - tl;dr, what is p-value?\n"
   ]
  },
  {
   "cell_type": "markdown",
   "metadata": {},
   "source": [
    "In order to understand P values, you must first understand the null hypothesis.\n",
    "\n",
    "Watch this and get back to read the next of the notebook<br>\n",
    "https://www.youtube.com/watch?v=-MKT3yLDkqk\n",
    "\n",
    "### Toy example\n",
    "How did Kobe Bryant help me understand the p-value?\n",
    "Imagine that one day, Kobe Bryant (the famous basketball player) got into a 1 on 1 match with a, say, ten-year-old kid. Piece of cake for Kobe, right?\n",
    "\n",
    "So <b> Null hypothesis</b> will be - Kobi will win 1 on 1 game against kids.<br>\n",
    "The <b> Alternative hypothesis</b> will be - Kobi loss the game.\n",
    "\n",
    "But it turned out that Kobe lost the game.\n",
    "\n",
    "Whatttttttttt?\n",
    "\n",
    "Kobe was beaten in a 1 on 1 match against a little kid! Fans were shocked. And frustrated. And angry.\n",
    "\n",
    "The reasoning goes like this: if Kobe had played as usual, he would have been highly unlikely to be defeated. But he lost the game! So fans had every reason to cast doubt on his fair play. (I’m so sorry, Kobe).\n",
    "\n",
    "To put it another way, the reasoning goes like this: We have a hypothesis: Kobe rocks as usual. If the hypothesis had been true, the probability of him losing would have been soooooooo small, say, less than 5%. But he lost the game. So the unlikelihood was considered as evidence against his fair play.\n",
    "\n",
    "In medical studies, the authors do almost the same thing. They propose a hypothesis (the full name is null hypothesis), which is “a statement suggesting that nothing interesting is going on, for example, that there is no difference between the observed data and what was expected, or no difference between two groups.” [2] Then the authors calculate the probability (p-value) of the collected data, given that the null hypothesis was true. If the p-value is too small, they have every reason to cast doubt on the accuracy of the null hypothesis. Then, they reject the null hypothesis, and accept the “inverse hypothesis” (alternative hypothesis).\n",
    "\n",
    "See?\n",
    "#### So what is p-value now?\n",
    "\n",
    "The p-value reflects the strength of evidence against the null hypothesis. Accordingly, we’ll encounter two situations: the strength is strong enough or not strong enough to reject the null hypothesis.\n",
    "\n",
    "How do we determine whether a p-value is strong enough or not?<br>\n",
    "Generally, we use 0.05 as a threshold.<br> If p > 0.05, we say that the evidence against the null hypothesis is not strong enough, and we can’t reject the null hypothesis.<br>\n",
    "If p < 0.05, we say that the evidence against the null hypothesis is strong enough, so we reject the null hypothesis and accept the alternative hypothesis.\n"
   ]
  },
  {
   "cell_type": "markdown",
   "metadata": {},
   "source": [
    "### Another toy example\n",
    "\n",
    "A friend of mine showed me a mundane coin and insisted that it was not a normal one. I did not believe in his boast, so I decided to conduct an experiment with that coin. My null hypothesis was: “The coin is normal like any other one”. Then I tossed the coin 20 times. I got 18 heads and 2 tails\n",
    "\n",
    "Normally, when tossing a coin, I expect the result of 10 heads + 10 tails to be the most frequent, followed by the results of 9 heads + 11 tails and 11 heads + 9 tails. The result of 18 heads + 2 tails goes to the periphery of the probability curve (that is, more extreme). The p-value is the probability of the observed outcome plus all “more extreme” outcomes (in this case: 19 heads + 1 tail and 20 heads + 0 tail), represented by the shaded “tail area” [1]. Often, statisticians calculate a two-tail p-value (I’ll explain the reason in another time), so 18 tails + 2 heads, 19 tails + 1 heads and 20 tails + 0 head are included."
   ]
  },
  {
   "cell_type": "markdown",
   "metadata": {},
   "source": [
    "\n",
    "<img src=\"https://upload.wikimedia.org/wikipedia/en/0/00/P-value_Graph.png\" width=\"400\">"
   ]
  },
  {
   "cell_type": "markdown",
   "metadata": {},
   "source": [
    "P-value = probability that the data would be at least as extreme as those observed = p (18 heads and 2 tails) + p (19 heads and 1 tails) + p (20 heads and 0 tail) + p (18 tails + 2 heads) + p (19 tails + 1 heads) + p (20 tails + 0 head) = 0.0004 (*)"
   ]
  },
  {
   "cell_type": "markdown",
   "metadata": {},
   "source": [
    "# \"Should I take the blue pill?\" - Why dafat I need this shit? "
   ]
  },
  {
   "cell_type": "markdown",
   "metadata": {},
   "source": [
    "It is good practice to gather a population of results when comparing two different machine learning algorithms or when comparing the same algorithm with different configurations.\n",
    "\n",
    "Repeating each experimental run 30 or more times gives you a population of results from which you can calculate the mean expected performance, given the stochastic nature of most machine learning algorithms.\n",
    "\n",
    "If the mean expected performance from two algorithms or configurations are different, how do you know that the difference is significant, and how significant?\n",
    "\n",
    "Statistical significance tests are an important tool to help to interpret the results from machine learning experiments. Additionally, the findings from these tools can help you better and more confidently present your experimental results and choose the right algorithms and configurations for your predictive modeling problem."
   ]
  },
  {
   "cell_type": "markdown",
   "metadata": {},
   "source": [
    "# \"Meet Morpheus\" - Some theoretical background"
   ]
  },
  {
   "cell_type": "markdown",
   "metadata": {},
   "source": [
    "P-values are the probability of obtaining an effect at least as extreme as the one in your sample data, assuming the truth of the null hypothesis."
   ]
  },
  {
   "cell_type": "markdown",
   "metadata": {},
   "source": [
    "When you perform a hypothesis test in statistics, a p-value helps you determine the significance of your results. \n",
    "Hypothesis tests are used to test the validity of a claim that is made about a population. This claim that’s on trial, in essence, is called the null hypothesis.\n",
    "The alternative hypothesis is the one you would believe if the null hypothesis is concluded to be untrue.\n",
    "\n",
    "Null hypothesis - Old Idea\n",
    "\n",
    "Alternative hypothesis - New Idea\n",
    "\n",
    "The evidence in the trial is your data and the statistics that go along with it. All hypothesis tests ultimately use a p-value to weigh the strength of the evidence (what the data are telling you about the population). The p-value is a number between 0 and 1 and interpreted in the following way:\n",
    "\n",
    "A small p-value (typically ≤ 0.05) indicates strong evidence against the null hypothesis, so you reject the null hypothesis.\n",
    "\n",
    "A large p-value (> 0.05) indicates weak evidence against the null hypothesis, so you fail to reject the null hypothesis.\n",
    "\n",
    "p-values very close to the cutoff (0.05) are considered to be marginal (could go either way). Always report the p-value so your readers can draw their own conclusions."
   ]
  },
  {
   "attachments": {
    "image.png": {
     "image/png": "[encoded data removed]"
    }
   },
   "cell_type": "markdown",
   "metadata": {},
   "source": [
    "<img src=\"attachment:image.png\" width=\"400\">"
   ]
  },
  {
   "cell_type": "markdown",
   "metadata": {},
   "source": [
    "Most authors refer to statistically significant as P < 0.05 and statistically highly significant as P < 0.001 (less than one in a thousand chance of being wrong)."
   ]
  },
  {
   "cell_type": "markdown",
   "metadata": {},
   "source": [
    "Good source to play with mean ,sample size and compare p values distrebution\n",
    "https://marcon-laforet.shinyapps.io/P-value_Distribution_T-test/"
   ]
  },
  {
   "cell_type": "markdown",
   "metadata": {},
   "source": [
    "# \"I know Kung Fu\"- Hands on experience"
   ]
  },
  {
   "cell_type": "markdown",
   "metadata": {},
   "source": [
    "Lets assume we have 2 classifiers for some classification task.\n",
    "We want to compare the results of both of them and say that one is sangificantly better that the other.\n",
    "Lets code..."
   ]
  },
  {
   "cell_type": "markdown",
   "metadata": {},
   "source": [
    "We will:<br>\n",
    "1. Load a dataset - We will try to predict breast cancer \n",
    "2. Run classifier 1 100 times and store the results\n",
    "3. Run classifier 2 100 times and store the results\n",
    "4. Null hypothesis - The models accurecies means are the same (not segnificantly different). \n",
    "    Alternatice hypothesis - The models accurecies means are significantly different \n",
    "5. Calculate p-value and deside."
   ]
  },
  {
   "cell_type": "code",
   "execution_count": 11,
   "metadata": {},
   "outputs": [
    {
     "name": "stdout",
     "output_type": "stream",
     "text": [
      "['malignant' 'benign']\n",
      "0\n",
      "mean radius\n",
      "[  1.79900000e+01   1.03800000e+01   1.22800000e+02   1.00100000e+03\n",
      "   1.18400000e-01   2.77600000e-01   3.00100000e-01   1.47100000e-01\n",
      "   2.41900000e-01   7.87100000e-02   1.09500000e+00   9.05300000e-01\n",
      "   8.58900000e+00   1.53400000e+02   6.39900000e-03   4.90400000e-02\n",
      "   5.37300000e-02   1.58700000e-02   3.00300000e-02   6.19300000e-03\n",
      "   2.53800000e+01   1.73300000e+01   1.84600000e+02   2.01900000e+03\n",
      "   1.62200000e-01   6.65600000e-01   7.11900000e-01   2.65400000e-01\n",
      "   4.60100000e-01   1.18900000e-01]\n"
     ]
    }
   ],
   "source": [
    "import numpy as np\n",
    "from numpy.random import seed\n",
    "from numpy.random import normal\n",
    "from numpy import savetxt\n",
    "from sklearn.datasets import load_breast_cancer\n",
    "\n",
    "# Load dataset\n",
    "data = load_breast_cancer()\n",
    "\n",
    "# Organize our data\n",
    "label_names = data['target_names']\n",
    "labels = data['target']\n",
    "feature_names = data['feature_names']\n",
    "features = data['data']\n",
    "\n",
    "# Look at our data\n",
    "print(label_names)\n",
    "print(labels[0])\n",
    "print(feature_names[0])\n",
    "print(features[0])"
   ]
  },
  {
   "cell_type": "markdown",
   "metadata": {},
   "source": [
    "As shows above, our class names are malignant and benign, which are then mapped to binary values of 0 and 1, where 0 represents malignant tumors and 1 represents benign tumors. Therefore, our first data instance is a malignant tumor whose mean radius is 1.79900000e+01.\n",
    "\n",
    "Now that we have our data loaded, we can work with our data to build our machine learning classifier."
   ]
  },
  {
   "cell_type": "code",
   "execution_count": 15,
   "metadata": {},
   "outputs": [
    {
     "name": "stdout",
     "output_type": "stream",
     "text": [
      "('working on', 0, 'iteration')\n",
      "('working on', 1, 'iteration')\n",
      "('working on', 2, 'iteration')\n",
      "('working on', 3, 'iteration')\n",
      "('working on', 4, 'iteration')\n",
      "('working on', 5, 'iteration')\n",
      "('working on', 6, 'iteration')\n",
      "('working on', 7, 'iteration')\n",
      "('working on', 8, 'iteration')\n",
      "('working on', 9, 'iteration')\n",
      "('working on', 10, 'iteration')\n",
      "('working on', 11, 'iteration')\n",
      "('working on', 12, 'iteration')\n",
      "('working on', 13, 'iteration')\n",
      "('working on', 14, 'iteration')\n",
      "('working on', 15, 'iteration')\n",
      "('working on', 16, 'iteration')\n",
      "('working on', 17, 'iteration')\n",
      "('working on', 18, 'iteration')\n",
      "('working on', 19, 'iteration')\n",
      "('working on', 20, 'iteration')\n",
      "('working on', 21, 'iteration')\n",
      "('working on', 22, 'iteration')\n",
      "('working on', 23, 'iteration')\n",
      "('working on', 24, 'iteration')\n",
      "('working on', 25, 'iteration')\n",
      "('working on', 26, 'iteration')\n",
      "('working on', 27, 'iteration')\n",
      "('working on', 28, 'iteration')\n",
      "('working on', 29, 'iteration')\n",
      "('working on', 30, 'iteration')\n",
      "('working on', 31, 'iteration')\n",
      "('working on', 32, 'iteration')\n",
      "('working on', 33, 'iteration')\n",
      "('working on', 34, 'iteration')\n",
      "('working on', 35, 'iteration')\n",
      "('working on', 36, 'iteration')\n",
      "('working on', 37, 'iteration')\n",
      "('working on', 38, 'iteration')\n",
      "('working on', 39, 'iteration')\n",
      "('working on', 40, 'iteration')\n",
      "('working on', 41, 'iteration')\n",
      "('working on', 42, 'iteration')\n",
      "('working on', 43, 'iteration')\n",
      "('working on', 44, 'iteration')\n",
      "('working on', 45, 'iteration')\n",
      "('working on', 46, 'iteration')\n",
      "('working on', 47, 'iteration')\n",
      "('working on', 48, 'iteration')\n",
      "('working on', 49, 'iteration')\n",
      "('working on', 50, 'iteration')\n",
      "('working on', 51, 'iteration')\n",
      "('working on', 52, 'iteration')\n",
      "('working on', 53, 'iteration')\n",
      "('working on', 54, 'iteration')\n",
      "('working on', 55, 'iteration')\n",
      "('working on', 56, 'iteration')\n",
      "('working on', 57, 'iteration')\n",
      "('working on', 58, 'iteration')\n",
      "('working on', 59, 'iteration')\n",
      "('working on', 60, 'iteration')\n",
      "('working on', 61, 'iteration')\n",
      "('working on', 62, 'iteration')\n",
      "('working on', 63, 'iteration')\n",
      "('working on', 64, 'iteration')\n",
      "('working on', 65, 'iteration')\n",
      "('working on', 66, 'iteration')\n",
      "('working on', 67, 'iteration')\n",
      "('working on', 68, 'iteration')\n",
      "('working on', 69, 'iteration')\n",
      "('working on', 70, 'iteration')\n",
      "('working on', 71, 'iteration')\n",
      "('working on', 72, 'iteration')\n",
      "('working on', 73, 'iteration')\n",
      "('working on', 74, 'iteration')\n",
      "('working on', 75, 'iteration')\n",
      "('working on', 76, 'iteration')\n",
      "('working on', 77, 'iteration')\n",
      "('working on', 78, 'iteration')\n",
      "('working on', 79, 'iteration')\n",
      "('working on', 80, 'iteration')\n",
      "('working on', 81, 'iteration')\n",
      "('working on', 82, 'iteration')\n",
      "('working on', 83, 'iteration')\n",
      "('working on', 84, 'iteration')\n",
      "('working on', 85, 'iteration')\n",
      "('working on', 86, 'iteration')\n",
      "('working on', 87, 'iteration')\n",
      "('working on', 88, 'iteration')\n",
      "('working on', 89, 'iteration')\n",
      "('working on', 90, 'iteration')\n",
      "('working on', 91, 'iteration')\n",
      "('working on', 92, 'iteration')\n",
      "('working on', 93, 'iteration')\n",
      "('working on', 94, 'iteration')\n",
      "('working on', 95, 'iteration')\n",
      "('working on', 96, 'iteration')\n",
      "('working on', 97, 'iteration')\n",
      "('working on', 98, 'iteration')\n",
      "('working on', 99, 'iteration')\n"
     ]
    }
   ],
   "source": [
    "from sklearn.model_selection import train_test_split\n",
    "from sklearn.naive_bayes import GaussianNB\n",
    "from sklearn.metrics import accuracy_score\n",
    "from sklearn.ensemble import RandomForestClassifier\n",
    "\n",
    "#2+3. Run classifier 1 and classifier 2 100 times and store the results. \n",
    "# we will multiply the random_state by i to get different samples every step, \n",
    "# but it will be the same samples in each step for both of the classifiers.\n",
    "classifier_1_preds_acc = []\n",
    "classifier_2_preds_acc = []\n",
    "for i in range(100):\n",
    "    print(\"working on\",i,\"iteration\")\n",
    "    # Split our data\n",
    "    train, test, train_labels, test_labels = train_test_split(features,\n",
    "                                                          labels,\n",
    "                                                          test_size=0.33,\n",
    "                                                          random_state=42*i)\n",
    "    # Initialize our classifier 1\n",
    "    classifier_1 = GaussianNB()\n",
    "    # Initialize our classifier 2\n",
    "    classifier_2 = RandomForestClassifier(max_depth=5, n_estimators=10, max_features=1)\n",
    "    \n",
    "    # Train our classifiers\n",
    "    classifier_1_model = classifier_1.fit(train, train_labels)\n",
    "    classifier_2_model = classifier_2.fit(train, train_labels)\n",
    "    \n",
    "    # Make predictionss\n",
    "    classifier_1_preds = classifier_1_model.predict(test)\n",
    "    classifier_2_preds = classifier_2_model.predict(test)\n",
    "\n",
    "    # Evaluate accuracy and append to relavant list\n",
    "    classifier_1_preds_acc.append(accuracy_score(test_labels, classifier_1_preds))\n",
    "    classifier_2_preds_acc.append(accuracy_score(test_labels, classifier_2_preds))\n",
    "    \n"
   ]
  },
  {
   "cell_type": "code",
   "execution_count": 30,
   "metadata": {},
   "outputs": [
    {
     "name": "stdout",
     "output_type": "stream",
     "text": [
      "Classifier 1 accuracies\n",
      "[0.92021276595744683, 0.94148936170212771, 0.94680851063829785, 0.93617021276595747, 0.92021276595744683]\n",
      "Classifier 2 accuracies\n",
      "[0.92553191489361697, 0.92553191489361697, 0.93617021276595747, 0.94680851063829785, 0.93085106382978722]\n"
     ]
    }
   ],
   "source": [
    "# Print sample of predictions\n",
    "print(\"Classifier 1 accuracies\")\n",
    "print(classifier_1_preds_acc[:5])\n",
    "print(\"Classifier 2 accuracies\")\n",
    "print(classifier_2_preds_acc[:5])"
   ]
  },
  {
   "cell_type": "markdown",
   "metadata": {},
   "source": [
    "pretty good out-of-the-box classifier"
   ]
  },
  {
   "cell_type": "code",
   "execution_count": 31,
   "metadata": {},
   "outputs": [
    {
     "name": "stdout",
     "output_type": "stream",
     "text": [
      "       classifier_1_acc  classifier_2_acc\n",
      "count        100.000000        100.000000\n",
      "mean           0.938883          0.945319\n",
      "std            0.014355          0.015661\n",
      "min            0.909574          0.904255\n",
      "25%            0.929521          0.934840\n",
      "50%            0.936170          0.946809\n",
      "75%            0.948138          0.957447\n",
      "max            0.973404          0.978723\n"
     ]
    }
   ],
   "source": [
    "import pandas as pd\n",
    "\n",
    "# Transform classifier accurecies to pandas dataframe and check stats\n",
    "results= pd.DataFrame({\"classifier_1_acc\":classifier_1_preds_acc,\"classifier_2_acc\":classifier_2_preds_acc})\n",
    "\n",
    "# descriptive stats\n",
    "print(results.describe())"
   ]
  },
  {
   "cell_type": "markdown",
   "metadata": {},
   "source": [
    "We can see that the classifiers has different means, we would like to take the one with the better mean (lets ignore the std at the moment), but what is the possibility that the difference of the mean is up to a chance and will no hold in the outside world (on other samples).<br>\n",
    "\n",
    "We can think on an extream case where we have one slow classifier that has higher mean that another fast classifier. If the difference between the means is not statistically segnificant, we would like to take the fast be less accurate classifier."
   ]
  },
  {
   "cell_type": "code",
   "execution_count": 32,
   "metadata": {},
   "outputs": [
    {
     "name": "stdout",
     "output_type": "stream",
     "text": [
      "(-3.0296417384080194, 0.0027750144036621832)\n",
      "Samples are likely drawn from different distributions (reject H0)\n"
     ]
    }
   ],
   "source": [
    "from pandas import read_csv\n",
    "from scipy.stats import ttest_ind\n",
    "from matplotlib import pyplot\n",
    "\n",
    "# calculate the significance\n",
    "value, pvalue = ttest_ind(classifier_1_preds_acc, classifier_2_preds_acc, equal_var=True)\n",
    "print(value, pvalue)\n",
    "if pvalue > 0.05:\n",
    "\tprint('Samples are likely drawn from the same distributions (fail to reject H0)')\n",
    "else:\n",
    "\tprint('Samples are likely drawn from different distributions (reject H0)')"
   ]
  },
  {
   "cell_type": "markdown",
   "metadata": {},
   "source": [
    "We can see that 100 expiraments is enough to say at 100-0.002=99.8% of the times, classifier 2 will have higher accuracy mean than classifier 1."
   ]
  },
  {
   "cell_type": "markdown",
   "metadata": {},
   "source": [
    "Now we will do the same thing, but after every step we will check if they are statistically segnificantly different. We want to get the minimum number of expiraments to be able to reject the null hypothesis."
   ]
  },
  {
   "cell_type": "code",
   "execution_count": 33,
   "metadata": {},
   "outputs": [
    {
     "name": "stdout",
     "output_type": "stream",
     "text": [
      "('working on', 0, 'iteration')\n",
      "(nan, nan)\n",
      "('working on', 1, 'iteration')\n",
      "(-0.78086880944302406, 0.51663175547717122)\n",
      "('working on', 2, 'iteration')\n",
      "(-0.46291004988626877, 0.66749218083265149)\n",
      "('working on', 3, 'iteration')\n",
      "(-1.0283744244362194, 0.34343376192775121)\n",
      "('working on', 4, 'iteration')\n",
      "(-1.5109662034355769, 0.16924290409413664)\n",
      "('working on', 5, 'iteration')\n",
      "(-1.3560625999842233, 0.20490755162488769)\n",
      "('working on', 6, 'iteration')\n",
      "(-1.0288124779679402, 0.3238592722288659)\n",
      "('working on', 7, 'iteration')\n",
      "(-1.0369354414416976, 0.31734518550651847)\n",
      "('working on', 8, 'iteration')\n",
      "(-1.3207119088446897, 0.20517742205486111)\n",
      "('working on', 9, 'iteration')\n",
      "(-1.3112359141823118, 0.20625950491274547)\n",
      "('working on', 10, 'iteration')\n",
      "(-1.6056066484515064, 0.12403492228334743)\n",
      "('working on', 11, 'iteration')\n",
      "(-1.6035477679510308, 0.12307505961115389)\n",
      "('working on', 12, 'iteration')\n",
      "(-1.7116329922036331, 0.099859390431812814)\n",
      "('working on', 13, 'iteration')\n",
      "(-1.757408560490366, 0.090618972294171804)\n",
      "('working on', 14, 'iteration')\n",
      "(-1.9484032937341185, 0.06145307479669327)\n",
      "('working on', 15, 'iteration')\n",
      "(-2.2482442447579847, 0.032063479766266445)\n",
      "('working on', 16, 'iteration')\n",
      "(-2.4682659869611623, 0.019107085008291277)\n",
      "('working on', 17, 'iteration')\n",
      "(-2.4072040720298538, 0.021651654243350658)\n",
      "('working on', 18, 'iteration')\n",
      "(-2.7700359545504387, 0.0088081974284970124)\n",
      "('working on', 19, 'iteration')\n",
      "(-2.8222447629826997, 0.0075457900739532109)\n",
      "('working on', 20, 'iteration')\n",
      "(-2.8630991905759866, 0.0066476126272561964)\n",
      "('working on', 21, 'iteration')\n",
      "(-3.0404729545736831, 0.0040568732654978762)\n",
      "('working on', 22, 'iteration')\n",
      "(-2.8376004259911536, 0.0068496804377273434)\n",
      "('working on', 23, 'iteration')\n",
      "(-2.7618048414767862, 0.0082329186021373821)\n",
      "('working on', 24, 'iteration')\n",
      "(-2.5443837464335406, 0.014219210083375717)\n",
      "('working on', 25, 'iteration')\n",
      "(-2.5098074107919786, 0.01536291669547069)\n",
      "('working on', 26, 'iteration')\n",
      "(-2.357828837125282, 0.022179034217582348)\n",
      "('working on', 27, 'iteration')\n",
      "(-2.4537281412561853, 0.017395483288170595)\n",
      "('working on', 28, 'iteration')\n",
      "(-2.367433346375476, 0.021391891397939695)\n",
      "('working on', 29, 'iteration')\n",
      "(-2.304468963732238, 0.024796377177429222)\n",
      "('working on', 30, 'iteration')\n",
      "(-2.4390060535875246, 0.017702970987553648)\n",
      "('working on', 31, 'iteration')\n",
      "(-2.0570705553295685, 0.043892492186296393)\n",
      "('working on', 32, 'iteration')\n",
      "(-1.9562906220379963, 0.054797760190669155)\n",
      "('working on', 33, 'iteration')\n",
      "(-1.7064938825558613, 0.09261771695335369)\n",
      "('working on', 34, 'iteration')\n",
      "(-1.8837686678052994, 0.063872630355701288)\n",
      "('working on', 35, 'iteration')\n",
      "(-1.9622098205032181, 0.053714464779016188)\n",
      "('working on', 36, 'iteration')\n",
      "(-2.0031077887360627, 0.04893076339928569)\n",
      "('working on', 37, 'iteration')\n",
      "(-1.8895701794866322, 0.062732671802367593)\n",
      "('working on', 38, 'iteration')\n",
      "(-1.9664505061036646, 0.052898049466768182)\n",
      "('working on', 39, 'iteration')\n",
      "(-2.0868824097512486, 0.040165355513939446)\n",
      "('working on', 40, 'iteration')\n",
      "(-1.9109803959860294, 0.059589115898573623)\n",
      "('working on', 41, 'iteration')\n",
      "(-1.7089244942654898, 0.091247440652185999)\n",
      "('working on', 42, 'iteration')\n",
      "(-1.6670680082315243, 0.099225354769063634)\n",
      "('working on', 43, 'iteration')\n",
      "(-1.6495892688987934, 0.1026750865792299)\n",
      "('working on', 44, 'iteration')\n",
      "(-1.5360358589506551, 0.12811740324497403)\n",
      "('working on', 45, 'iteration')\n",
      "(-1.6056935954446594, 0.11184452453641566)\n",
      "('working on', 46, 'iteration')\n",
      "(-1.599334680178444, 0.11317504928675462)\n",
      "('working on', 47, 'iteration')\n",
      "(-1.667280750687637, 0.098787068377026943)\n",
      "('working on', 48, 'iteration')\n",
      "(-1.665007673633043, 0.099171700494163781)\n",
      "('working on', 49, 'iteration')\n",
      "(-1.549870761192971, 0.1243960233188381)\n",
      "('working on', 50, 'iteration')\n",
      "(-1.637277519333926, 0.10471570270555296)\n",
      "('working on', 51, 'iteration')\n",
      "(-1.7630150915216649, 0.080892881773053357)\n",
      "('working on', 52, 'iteration')\n",
      "(-1.6531866767448953, 0.10130854947415296)\n",
      "('working on', 53, 'iteration')\n",
      "(-1.6147589521509069, 0.10933576217745458)\n",
      "('working on', 54, 'iteration')\n",
      "(-1.6070916114161478, 0.11095407617093692)\n",
      "('working on', 55, 'iteration')\n",
      "(-1.7050896949889343, 0.091000307226084404)\n",
      "('working on', 56, 'iteration')\n",
      "(-1.8274434944003461, 0.070295461429865952)\n",
      "('working on', 57, 'iteration')\n",
      "(-1.8816202701639493, 0.062438098223749544)\n",
      "('working on', 58, 'iteration')\n",
      "(-1.8662535783441234, 0.064531467846983367)\n",
      "('working on', 59, 'iteration')\n",
      "(-1.8240655128198937, 0.070672612622408704)\n",
      "('working on', 60, 'iteration')\n",
      "(-1.831317779154563, 0.069533691502644157)\n",
      "('working on', 61, 'iteration')\n",
      "(-1.8253263031253497, 0.070397905772949548)\n",
      "('working on', 62, 'iteration')\n",
      "(-1.9952184816704444, 0.04821130295443625)\n",
      "('working on', 63, 'iteration')\n",
      "(-1.8975100263160358, 0.060048908274244729)\n",
      "('working on', 64, 'iteration')\n",
      "(-2.0129050828991444, 0.046222452125143594)\n",
      "('working on', 65, 'iteration')\n",
      "(-2.1501123708105307, 0.033397331312817087)\n",
      "('working on', 66, 'iteration')\n",
      "(-2.3802636088410987, 0.018730143878555174)\n",
      "('working on', 67, 'iteration')\n",
      "(-2.4061482577773092, 0.017485922655653668)\n",
      "('working on', 68, 'iteration')\n",
      "(-2.4924965162846164, 0.013885741207926069)\n",
      "('working on', 69, 'iteration')\n",
      "(-2.6042786278181493, 0.010214951212145783)\n",
      "('working on', 70, 'iteration')\n",
      "(-2.742495253944822, 0.0068947007183086323)\n",
      "('working on', 71, 'iteration')\n",
      "(-2.6766585181198712, 0.0083112350066385753)\n",
      "('working on', 72, 'iteration')\n",
      "(-2.7021239102273036, 0.0077178313461397372)\n",
      "('working on', 73, 'iteration')\n",
      "(-2.6997132328062157, 0.0077595379186088196)\n",
      "('working on', 74, 'iteration')\n",
      "(-2.6158014040844129, 0.0098242843839568342)\n",
      "('working on', 75, 'iteration')\n",
      "(-2.640421659641333, 0.0091563911218182688)\n",
      "('working on', 76, 'iteration')\n",
      "(-2.4803188350479877, 0.014216920031349204)\n",
      "('working on', 77, 'iteration')\n",
      "(-2.6329721936246013, 0.0093269028346823109)\n",
      "('working on', 78, 'iteration')\n",
      "(-2.5994371829514802, 0.010233827385596082)\n",
      "('working on', 79, 'iteration')\n",
      "(-2.6270738166564755, 0.0094604452261215395)\n",
      "('working on', 80, 'iteration')\n",
      "(-2.672546481732089, 0.0083075314274522229)\n",
      "('working on', 81, 'iteration')\n",
      "(-2.8086653859636068, 0.0055869999460503098)\n",
      "('working on', 82, 'iteration')\n",
      "(-2.8829499789182349, 0.004468069942109203)\n",
      "('working on', 83, 'iteration')\n",
      "(-2.8660710547360804, 0.0046943690212639588)\n",
      "('working on', 84, 'iteration')\n",
      "(-2.8207678869427566, 0.0053681545937730099)\n",
      "('working on', 85, 'iteration')\n",
      "(-2.929099069481937, 0.0038660967447878458)\n",
      "('working on', 86, 'iteration')\n",
      "(-2.9807702969245247, 0.0032920931975530714)\n",
      "('working on', 87, 'iteration')\n",
      "(-3.1187267228536673, 0.0021261670971367934)\n",
      "('working on', 88, 'iteration')\n",
      "(-3.1243405615631561, 0.0020845183653722277)\n",
      "('working on', 89, 'iteration')\n",
      "(-3.2931227275738384, 0.0011951988309823601)\n",
      "('working on', 90, 'iteration')\n",
      "(-3.2334765317765544, 0.0014548585404878613)\n",
      "('working on', 91, 'iteration')\n",
      "(-3.2776235991425513, 0.0012538825884589181)\n",
      "('working on', 92, 'iteration')\n",
      "(-3.2207264033645679, 0.0015119701767080734)\n",
      "('working on', 93, 'iteration')\n",
      "(-3.2188915953135808, 0.0015185130855037861)\n",
      "('working on', 94, 'iteration')\n",
      "(-3.2285376989128816, 0.0014683389685374683)\n",
      "('working on', 95, 'iteration')\n",
      "(-3.2276647216088281, 0.0014701124390326752)\n",
      "('working on', 96, 'iteration')\n",
      "(-3.1736239304052654, 0.0017535066077384008)\n",
      "('working on', 97, 'iteration')\n",
      "(-3.1722860662972923, 0.0017585220520209481)\n",
      "('working on', 98, 'iteration')\n",
      "(-3.1932962135228506, 0.0016389104569887799)\n",
      "('working on', 99, 'iteration')\n",
      "(-3.2645177846111286, 0.0012918721585663388)\n"
     ]
    },
    {
     "data": {
      "image/png": "[encoded data removed]",
      "text/plain": [
       "<matplotlib.figure.Figure at 0xd26d4a8>"
      ]
     },
     "metadata": {},
     "output_type": "display_data"
    }
   ],
   "source": [
    "from sklearn.model_selection import train_test_split\n",
    "from sklearn.naive_bayes import GaussianNB\n",
    "from sklearn.metrics import accuracy_score\n",
    "from sklearn.ensemble import RandomForestClassifier\n",
    "\n",
    "\n",
    "from pandas import read_csv\n",
    "from scipy.stats import ttest_ind\n",
    "from matplotlib import pyplot\n",
    "\n",
    "\n",
    "classifier_1_preds_acc = []\n",
    "classifier_2_preds_acc = []\n",
    "pvalues = []\n",
    "\n",
    "for i in range(100):\n",
    "    print(\"working on\",i,\"iteration\")\n",
    "    # Split our data\n",
    "    train, test, train_labels, test_labels = train_test_split(features,\n",
    "                                                          labels,\n",
    "                                                          test_size=0.33,\n",
    "                                                          random_state=42*i)\n",
    "    # Initialize our classifier 1\n",
    "    classifier_1 = GaussianNB()\n",
    "    # Initialize our classifier 2\n",
    "    classifier_2 = RandomForestClassifier(max_depth=5, n_estimators=10, max_features=1)\n",
    "    \n",
    "    # Train our classifiers\n",
    "    classifier_1_model = classifier_1.fit(train, train_labels)\n",
    "    classifier_2_model = classifier_2.fit(train, train_labels)\n",
    "    \n",
    "    # Make predictionss\n",
    "    classifier_1_preds = classifier_1_model.predict(test)\n",
    "    classifier_2_preds = classifier_2_model.predict(test)\n",
    "\n",
    "    # Evaluate accuracy and append to relavant list\n",
    "    classifier_1_preds_acc.append(accuracy_score(test_labels, classifier_1_preds))\n",
    "    classifier_2_preds_acc.append(accuracy_score(test_labels, classifier_2_preds))\n",
    "\n",
    "    # calculate the significance\n",
    "    value, pvalue = ttest_ind(classifier_1_preds_acc, classifier_2_preds_acc, equal_var=True)\n",
    "    print(value, pvalue)\n",
    "    pvalues.append(pvalue)\n",
    "    \n",
    "# Uncomment it if you want to see the change in the trend of accepting/rejecting H0.\n",
    "#     if pvalue > 0.05:\n",
    "#         print('Samples are likely drawn from the same distributions (fail to reject H0)')\n",
    "#     else:\n",
    "#         print('Samples are likely drawn from different distributions (reject H0)')\n",
    "\n",
    "# plot p-values vs number of results in sample\n",
    "pyplot.plot(pvalues)\n",
    "# draw line at 95%, below which we reject H0\n",
    "pyplot.plot([0.05 for x in range(len(pvalues))], color='red')\n",
    "pyplot.show()"
   ]
  },
  {
   "cell_type": "code",
   "execution_count": 34,
   "metadata": {},
   "outputs": [
    {
     "data": {
      "image/png": "[encoded data removed]",
      "text/plain": [
       "<matplotlib.figure.Figure at 0xd115e10>"
      ]
     },
     "metadata": {},
     "output_type": "display_data"
    }
   ],
   "source": [
    "pyplot.plot(pvalues)\n",
    "# draw line at 95%, below which we reject H0\n",
    "pyplot.plot([0.05 for x in range(len(pvalues))], color='red')\n",
    "pyplot.show()"
   ]
  },
  {
   "cell_type": "markdown",
   "metadata": {},
   "source": [
    "We can see that we need at least 60 expiraments to reject the null hypothisis.<br>\n",
    "In other words, we need at least 60 expirament to say that the mean of classifier 1 is  statistically segnificantly differnt than the mean of classifier 2. <br>\n",
    "So now when we will have 60 expiraments, and accuracy mean of classifier 1 and accuracy mean of classifier 2, we will take the higher we will be prety sure that the mean accuracy will stay higher for this classifier compared to the other one."
   ]
  },
  {
   "cell_type": "markdown",
   "metadata": {},
   "source": [
    "# P Values Are NOT the Probability of Making a Mistake\n",
    "Incorrect interpretations of P values are very common. The most common mistake is to interpret a P value as the probability of making a mistake by rejecting a true null hypothesis (a Type I error).\n",
    "\n",
    "There are several reasons why P values can’t be the error rate.\n",
    "\n",
    "First, P values are calculated based on the assumptions that the null is true for the population and that the difference in the sample is caused entirely by random chance. Consequently, P values can’t tell you the probability that the null is true or false because it is 100% true from the perspective of the calculations.\n",
    "\n",
    "Second, while a low P value indicates that your data are unlikely assuming a true null, it can’t evaluate which of two competing cases is more likely:\n",
    "\n",
    "The null is true but your sample was unusual.\n",
    "The null is false.\n",
    "Determining which case is more likely requires subject area knowledge and replicate studies.\n"
   ]
  },
  {
   "attachments": {
    "image.png": {
     "image/png": "[encoded data removed]"
    }
   },
   "cell_type": "markdown",
   "metadata": {},
   "source": [
    "### What Is the True Error Rate?\n",
    "Caution signThink that this interpretation difference is simply a matter of semantics, and only important to picky statisticians? Think again. It’s important to you.\n",
    "\n",
    "If a P value is not the error rate, what the heck is the error rate? (Can you guess which way this is heading now?)\n",
    "\n",
    "Sellke et al.* have estimated the error rates associated with different P values. While the precise error rate depends on various assumptions (which I discuss here), the table summarizes them for middle-of-the-road assumptions.\n",
    "\n",
    "![image.png](attachment:image.png)\n",
    "\n",
    "Do the higher error rates in this table surprise you? Unfortunately, the common misinterpretation of P values as the error rate creates the illusion of substantially more evidence against the null hypothesis than is justified. As you can see, if you base a decision on a single study with a P value near 0.05, the difference observed in the sample may not exist at the population level. That can be costly!"
   ]
  },
  {
   "cell_type": "markdown",
   "metadata": {},
   "source": [
    "### The problem with p-values very good explanation\n",
    "https://towardsdatascience.com/a-case-study-of-the-p-value-f0d708861334"
   ]
  },
  {
   "cell_type": "markdown",
   "metadata": {},
   "source": [
    "### Sources:\n",
    "https://www.students4bestevidence.net/p-value-in-plain-english-2/\n",
    "http://blog.minitab.com/blog/adventures-in-statistics-2/how-to-correctly-interpret-p-values\n",
    "https://towardsdatascience.com/a-case-study-of-the-p-value-f0d708861334\n",
    "https://stats.stackexchange.com/questions/286301/is-my-better-score-with-a-different-machine-learning-model-statistically-signifi<br>\n",
    "https://machinelearningmastery.com/use-statistical-significance-tests-interpret-machine-learning-results/\n"
   ]
  },
  {
   "cell_type": "markdown",
   "metadata": {},
   "source": [
    "#### Forther reading:\n",
    "A machine learning alternative to P-values paper - https://arxiv.org/abs/1701.04944"
   ]
  }
 ],
 "metadata": {
  "kernelspec": {
   "display_name": "Python 2",
   "language": "python",
   "name": "python2"
  },
  "language_info": {
   "codemirror_mode": {
    "name": "ipython",
    "version": 2
   },
   "file_extension": ".py",
   "mimetype": "text/x-python",
   "name": "python",
   "nbconvert_exporter": "python",
   "pygments_lexer": "ipython2",
   "version": "2.7.13"
  }
 },
 "nbformat": 4,
 "nbformat_minor": 2
}
