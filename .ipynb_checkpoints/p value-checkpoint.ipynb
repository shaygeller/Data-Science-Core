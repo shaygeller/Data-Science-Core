{
 "cells": [
  {
   "cell_type": "markdown",
   "metadata": {},
   "source": [
    "# After completing this tutorial, you will know:"
   ]
  },
  {
   "cell_type": "markdown",
   "metadata": {},
   "source": [
    "1. What is p-value\n",
    "2. How to calulate it\n",
    "3. When to use it\n",
    "4. How it relates to Data Science"
   ]
  },
  {
   "cell_type": "markdown",
   "metadata": {},
   "source": [
    "# \"Meet Trinity\" - tl;dr, what is p-value?\n"
   ]
  },
  {
   "cell_type": "markdown",
   "metadata": {},
   "source": [
    "Watch this and get back to read the next of the notebook<br>\n",
    "https://www.youtube.com/watch?v=-MKT3yLDkqk"
   ]
  },
  {
   "cell_type": "markdown",
   "metadata": {},
   "source": [
    "# \"Should I take the blue pill?\" - Why dafak I need this shit? "
   ]
  },
  {
   "cell_type": "markdown",
   "metadata": {},
   "source": [
    "It is good practice to gather a population of results when comparing two different machine learning algorithms or when comparing the same algorithm with different configurations.\n",
    "\n",
    "Repeating each experimental run 30 or more times gives you a population of results from which you can calculate the mean expected performance, given the stochastic nature of most machine learning algorithms.\n",
    "\n",
    "If the mean expected performance from two algorithms or configurations are different, how do you know that the difference is significant, and how significant?\n",
    "\n",
    "Statistical significance tests are an important tool to help to interpret the results from machine learning experiments. Additionally, the findings from these tools can help you better and more confidently present your experimental results and choose the right algorithms and configurations for your predictive modeling problem."
   ]
  },
  {
   "cell_type": "markdown",
   "metadata": {},
   "source": [
    "Edward Teller, the famous Hungarian-American physicist, once quoted:\n",
    "\n",
    "“A fact is a simple statement that everyone believes. It is innocent, unless found guilty. A hypothesis is a novel suggestion that no one wants to believe. It is guilty, until found effective.”\n",
    "\n",
    "Application of hypothesis testing is predominant in Data Science. It is imperative to simplify and deconstruct it. Like a crime-fiction story, hypothesis testing, based on data, leads us from a novel suggestion to an effective proposition.\n",
    "\n",
    "The notion is simple yet powerful. We perform hypothesis testing intuitively every day. It is a 7-step process:\n",
    "\n",
    "1. Make Assumptions.\n",
    "2. Take an initial position.\n",
    "3. Determine the alternate position.\n",
    "4. Set acceptance criteria\n",
    "5. Conduct fact based tests.\n",
    "6. Evaluate results (here is where the p-value gets involved). Does the evaluation support the initial position? Are we confident that the result is not due to chance?\n",
    "7. Reach one of the following conclusion: Reject the original position in favor of alternate position or fail to reject the initial position."
   ]
  },
  {
   "cell_type": "markdown",
   "metadata": {},
   "source": [
    "# \"Meet Morpheus\" - Some theoretical background"
   ]
  },
  {
   "cell_type": "markdown",
   "metadata": {},
   "source": [
    "P-values are the probability of obtaining an effect at least as extreme as the one in your sample data, assuming the truth of the null hypothesis."
   ]
  },
  {
   "cell_type": "markdown",
   "metadata": {},
   "source": [
    "When you perform a hypothesis test in statistics, a p-value helps you determine the significance of your results. \n",
    "Hypothesis tests are used to test the validity of a claim that is made about a population. This claim that’s on trial, in essence, is called the null hypothesis.\n",
    "The alternative hypothesis is the one you would believe if the null hypothesis is concluded to be untrue.\n",
    "\n",
    "<b>Null hypothesis</b> - Old and known idea\n",
    "\n",
    "<b>Alternative hypothesis</b> - New Idea to be tested\n",
    "\n",
    "The evidence in the trial is your data and the statistics that go along with it. All hypothesis tests ultimately use a p-value to weigh the strength of the evidence (what the data are telling you about the population). The p-value is a number between 0 and 1 and interpreted in the following way:\n",
    "\n",
    "A small p-value (typically ≤ 0.05) indicates strong evidence against the null hypothesis, so you reject the null hypothesis.\n",
    "\n",
    "A large p-value (> 0.05) indicates weak evidence against the null hypothesis, so you fail to reject the null hypothesis.\n",
    "\n",
    "p-values very close to the cutoff (0.05) are considered to be marginal (could go either way). Always report the p-value so your readers can draw their own conclusions."
   ]
  },
  {
   "attachments": {
    "image.png": {
     "image/png": "[encoded data removed]"
    }
   },
   "cell_type": "markdown",
   "metadata": {},
   "source": [
    "<img src=\"attachment:image.png\" width=\"400\">"
   ]
  },
  {
   "cell_type": "markdown",
   "metadata": {},
   "source": [
    "In order to understand P values, you must first understand the null hypothesis.\n",
    "\n",
    "### Toy example\n",
    "How did Kobe Bryant help me understand the p-value?\n",
    "Imagine that one day, Kobe Bryant (the famous basketball player) got into a 1 on 1 match with a, say, ten-year-old kid. Piece of cake for Kobe, right?\n",
    "\n",
    "So <b> Null hypothesis</b> will be - Kobi will win 1 on 1 game against any kid.<br>\n",
    "The <b> Alternative hypothesis</b> will be - Kobi loss the game against a kid.\n",
    "\n",
    "But it turned out that Kobe lost the game.\n",
    "\n",
    "Whatttttttttt?\n",
    "\n",
    "Kobe was beaten in a 1 on 1 match against a little kid! Fans were shocked. And frustrated. And angry.\n",
    "\n",
    "The reasoning goes like this: if Kobe had played as usual, he would have been highly unlikely to be defeated. But he lost the game! So fans had every reason to cast doubt on his fair play. (I’m so sorry, Kobe).\n",
    "\n",
    "To put it another way, the reasoning goes like this: We have a hypothesis: Kobe rocks as usual. If the hypothesis had been true, the probability of him losing would have been soooooooo small, say, less than 5%. But he lost the game. So the unlikelihood was considered as evidence against his fair play.\n",
    "\n",
    "In medical studies, the authors do almost the same thing. They propose a hypothesis (the full name is <b>null hypothesis</b>), which is “a statement suggesting that nothing interesting is going on, for example, that there is no difference between the observed data and what was expected, or no difference between two groups.” [2] Then the authors calculate the probability (p-value) of the collected data, given that the null hypothesis was true. If the p-value is too small, they have every reason to cast doubt on the accuracy of the null hypothesis. Then, they reject the null hypothesis, and accept the “inverse hypothesis” (<b>alternative hypothesis</b>).\n",
    "\n",
    "#### So what is p-value now?\n",
    "\n",
    "The p-value reflects the strength of evidence against the null hypothesis. Accordingly, we’ll encounter two situations: the strength is strong enough or not strong enough to reject the null hypothesis.\n",
    "\n",
    "How do we determine whether a p-value is strong enough or not?<br>\n",
    "Generally, we use 0.05 as a threshold.<br> If p > 0.05, we say that the evidence against the null hypothesis is not strong enough, and we can’t reject the null hypothesis.<br>\n",
    "If p < 0.05, we say that the evidence against the null hypothesis is strong enough, so we reject the null hypothesis and accept the alternative hypothesis."
   ]
  },
  {
   "cell_type": "markdown",
   "metadata": {},
   "source": [
    "### Another toy example\n",
    "\n",
    "A friend of mine showed me a mundane coin and insisted that it was not a normal one. I did not believe in his boast, so I decided to conduct an experiment with that coin. My null hypothesis was: “The coin is normal like any other one”. Then I tossed the coin 20 times. I got 18 heads and 2 tails\n",
    "\n",
    "Normally, when tossing a coin, I expect the result of 10 heads + 10 tails to be the most frequent, followed by the results of 9 heads + 11 tails and 11 heads + 9 tails. The result of 18 heads + 2 tails goes to the periphery of the probability curve (that is, more extreme). The p-value is the probability of the observed outcome plus all “more extreme” outcomes (in this case: 19 heads + 1 tail and 20 heads + 0 tail), represented by the shaded “tail area” [1]. Often, statisticians calculate a two-tail p-value (I’ll explain the reason in another time), so 18 tails + 2 heads, 19 tails + 1 heads and 20 tails + 0 head are included."
   ]
  },
  {
   "cell_type": "markdown",
   "metadata": {},
   "source": [
    "\n",
    "<img src=\"https://upload.wikimedia.org/wikipedia/en/0/00/P-value_Graph.png\" width=\"400\">"
   ]
  },
  {
   "cell_type": "markdown",
   "metadata": {},
   "source": [
    "P-value = probability that the data would be at least as extreme as those observed = p (18 heads and 2 tails) + p (19 heads and 1 tails) + p (20 heads and 0 tail) + p (18 tails + 2 heads) + p (19 tails + 1 heads) + p (20 tails + 0 head) = 0.0004 (*)"
   ]
  },
  {
   "cell_type": "markdown",
   "metadata": {},
   "source": [
    "Most authors refer to statistically significant as P < 0.05 and statistically highly significant as P < 0.001 (less than one in a thousand chance of being wrong)."
   ]
  },
  {
   "cell_type": "markdown",
   "metadata": {},
   "source": [
    "## How to calculate P value\n",
    "\n",
    "P values can be calulated in defferent ways, depand on the question needs.\n",
    "\n",
    "A Very good and simple explanation can be found here - https://www.wikihow.com/Calculate-P-Value\n",
    "\n",
    "Other ways to calculate the P value can be found here - http://trendingsideways.com/index.php/the-p-value-formula-testing-your-hypothesis/\n",
    "\n",
    "or here - http://www.socscistatistics.com/pvalues/Default.aspx\n",
    "\n",
    "How to use the Z-table - https://www.dummies.com/education/math/statistics/how-to-use-the-z-table/"
   ]
  },
  {
   "cell_type": "markdown",
   "metadata": {},
   "source": [
    "# \"I know Kung Fu\"- Hands on experience"
   ]
  },
  {
   "cell_type": "markdown",
   "metadata": {},
   "source": [
    "Lets assume we have 2 classifiers for some classification task.\n",
    "We want to compare the results of both of them and say that one is sangificantly better that the other.\n",
    "Lets code..."
   ]
  },
  {
   "cell_type": "markdown",
   "metadata": {},
   "source": [
    "We will:<br>\n",
    "1. Load a dataset - We will try to predict breast cancer \n",
    "2. Run classifier 1 100 times and store the results\n",
    "3. Run classifier 2 100 times and store the results\n",
    "4. Null hypothesis - The models are equally good (not segnificantly different). \n",
    "    Alternatice hypothesis - The models are distinct (one model is better)\n",
    "5. Calculate p-value and deside."
   ]
  },
  {
   "cell_type": "code",
   "execution_count": 1,
   "metadata": {},
   "outputs": [
    {
     "name": "stdout",
     "output_type": "stream",
     "text": [
      "['malignant' 'benign']\n",
      "0\n",
      "mean radius\n",
      "[  1.79900000e+01   1.03800000e+01   1.22800000e+02   1.00100000e+03\n",
      "   1.18400000e-01   2.77600000e-01   3.00100000e-01   1.47100000e-01\n",
      "   2.41900000e-01   7.87100000e-02   1.09500000e+00   9.05300000e-01\n",
      "   8.58900000e+00   1.53400000e+02   6.39900000e-03   4.90400000e-02\n",
      "   5.37300000e-02   1.58700000e-02   3.00300000e-02   6.19300000e-03\n",
      "   2.53800000e+01   1.73300000e+01   1.84600000e+02   2.01900000e+03\n",
      "   1.62200000e-01   6.65600000e-01   7.11900000e-01   2.65400000e-01\n",
      "   4.60100000e-01   1.18900000e-01]\n"
     ]
    }
   ],
   "source": [
    "import numpy as np\n",
    "from numpy.random import seed\n",
    "from numpy.random import normal\n",
    "from numpy import savetxt\n",
    "from sklearn.datasets import load_breast_cancer\n",
    "\n",
    "# Load dataset\n",
    "data = load_breast_cancer()\n",
    "\n",
    "# Organize our data\n",
    "label_names = data['target_names']\n",
    "labels = data['target']\n",
    "feature_names = data['feature_names']\n",
    "features = data['data']\n",
    "\n",
    "# Look at our data\n",
    "print(label_names)\n",
    "print(labels[0])\n",
    "print(feature_names[0])\n",
    "print(features[0])"
   ]
  },
  {
   "cell_type": "markdown",
   "metadata": {},
   "source": [
    "As shows above, our class names are malignant and benign, which are then mapped to binary values of 0 and 1, where 0 represents malignant tumors and 1 represents benign tumors. Therefore, our first data instance is a malignant tumor whose mean radius is 1.79900000e+01.\n",
    "\n",
    "Now that we have our data loaded, we can work with our data to build our machine learning classifiers."
   ]
  },
  {
   "cell_type": "code",
   "execution_count": 2,
   "metadata": {},
   "outputs": [
    {
     "name": "stdout",
     "output_type": "stream",
     "text": [
      "('Model 1 accuracy is:', 0.94148936170212771)\n",
      "('Model 2 accuracy is:', 0.97872340425531912)\n"
     ]
    }
   ],
   "source": [
    "from sklearn.model_selection import train_test_split\n",
    "from sklearn.naive_bayes import GaussianNB\n",
    "from sklearn.metrics import accuracy_score\n",
    "from sklearn.ensemble import RandomForestClassifier\n",
    "\n",
    "#2+3. Run classifier 1 and classifier 2 100 times and store the results. \n",
    "# we will multiply the random_state by i to get different samples every step, \n",
    "# but it will be the same samples in each step for both of the classifiers.\n",
    "classifier_1_preds_acc = []\n",
    "classifier_2_preds_acc = []\n",
    "\n",
    "# Split our data\n",
    "train, test, train_labels, test_labels = train_test_split(features,\n",
    "                                                          labels,\n",
    "                                                          test_size=0.33,\n",
    "                                                          random_state=42)\n",
    "# Initialize our classifier 1\n",
    "classifier_1 = GaussianNB()\n",
    "# Initialize our classifier 2\n",
    "classifier_2 = RandomForestClassifier(max_depth=5, n_estimators=10, max_features=1)\n",
    "    \n",
    "# Train our classifiers\n",
    "classifier_1_model = classifier_1.fit(train, train_labels)\n",
    "classifier_2_model = classifier_2.fit(train, train_labels)\n",
    "    \n",
    "# Make predictionss\n",
    "classifier_1_preds = classifier_1_model.predict(test)\n",
    "classifier_2_preds = classifier_2_model.predict(test)\n",
    "\n",
    "# Evaluate accuracy and append to relavant list\n",
    "print(\"Model 1 accuracy is:\",accuracy_score(test_labels, classifier_1_preds))\n",
    "print(\"Model 2 accuracy is:\",accuracy_score(test_labels, classifier_2_preds))"
   ]
  },
  {
   "cell_type": "markdown",
   "metadata": {},
   "source": [
    "So, we can see that one of the models has higher accuracy than the other.\n",
    "However, both algorithms have some random processes inside, and therefore if I would run the experiment again, the results may vary slightly.\n",
    "\n",
    "Can we say with high confidence that Model 2 will allways perform better than model 1? Maybe if we will run the expirament many time, thier mean accuracy will be the same?\n",
    "\n",
    "So, lets run the expirament 100 times..."
   ]
  },
  {
   "cell_type": "code",
   "execution_count": 3,
   "metadata": {},
   "outputs": [
    {
     "name": "stdout",
     "output_type": "stream",
     "text": [
      "('working on', 0, 'iteration')\n",
      "('working on', 1, 'iteration')\n",
      "('working on', 2, 'iteration')\n",
      "('working on', 3, 'iteration')\n",
      "('working on', 4, 'iteration')\n",
      "('working on', 5, 'iteration')\n",
      "('working on', 6, 'iteration')\n",
      "('working on', 7, 'iteration')\n",
      "('working on', 8, 'iteration')\n",
      "('working on', 9, 'iteration')\n",
      "('working on', 10, 'iteration')\n",
      "('working on', 11, 'iteration')\n",
      "('working on', 12, 'iteration')\n",
      "('working on', 13, 'iteration')\n",
      "('working on', 14, 'iteration')\n",
      "('working on', 15, 'iteration')\n",
      "('working on', 16, 'iteration')\n",
      "('working on', 17, 'iteration')\n",
      "('working on', 18, 'iteration')\n",
      "('working on', 19, 'iteration')\n",
      "('working on', 20, 'iteration')\n",
      "('working on', 21, 'iteration')\n",
      "('working on', 22, 'iteration')\n",
      "('working on', 23, 'iteration')\n",
      "('working on', 24, 'iteration')\n",
      "('working on', 25, 'iteration')\n",
      "('working on', 26, 'iteration')\n",
      "('working on', 27, 'iteration')\n",
      "('working on', 28, 'iteration')\n",
      "('working on', 29, 'iteration')\n",
      "('working on', 30, 'iteration')\n",
      "('working on', 31, 'iteration')\n",
      "('working on', 32, 'iteration')\n",
      "('working on', 33, 'iteration')\n",
      "('working on', 34, 'iteration')\n",
      "('working on', 35, 'iteration')\n",
      "('working on', 36, 'iteration')\n",
      "('working on', 37, 'iteration')\n",
      "('working on', 38, 'iteration')\n",
      "('working on', 39, 'iteration')\n",
      "('working on', 40, 'iteration')\n",
      "('working on', 41, 'iteration')\n",
      "('working on', 42, 'iteration')\n",
      "('working on', 43, 'iteration')\n",
      "('working on', 44, 'iteration')\n",
      "('working on', 45, 'iteration')\n",
      "('working on', 46, 'iteration')\n",
      "('working on', 47, 'iteration')\n",
      "('working on', 48, 'iteration')\n",
      "('working on', 49, 'iteration')\n",
      "('working on', 50, 'iteration')\n",
      "('working on', 51, 'iteration')\n",
      "('working on', 52, 'iteration')\n",
      "('working on', 53, 'iteration')\n",
      "('working on', 54, 'iteration')\n",
      "('working on', 55, 'iteration')\n",
      "('working on', 56, 'iteration')\n",
      "('working on', 57, 'iteration')\n",
      "('working on', 58, 'iteration')\n",
      "('working on', 59, 'iteration')\n",
      "('working on', 60, 'iteration')\n",
      "('working on', 61, 'iteration')\n",
      "('working on', 62, 'iteration')\n",
      "('working on', 63, 'iteration')\n",
      "('working on', 64, 'iteration')\n",
      "('working on', 65, 'iteration')\n",
      "('working on', 66, 'iteration')\n",
      "('working on', 67, 'iteration')\n",
      "('working on', 68, 'iteration')\n",
      "('working on', 69, 'iteration')\n",
      "('working on', 70, 'iteration')\n",
      "('working on', 71, 'iteration')\n",
      "('working on', 72, 'iteration')\n",
      "('working on', 73, 'iteration')\n",
      "('working on', 74, 'iteration')\n",
      "('working on', 75, 'iteration')\n",
      "('working on', 76, 'iteration')\n",
      "('working on', 77, 'iteration')\n",
      "('working on', 78, 'iteration')\n",
      "('working on', 79, 'iteration')\n",
      "('working on', 80, 'iteration')\n",
      "('working on', 81, 'iteration')\n",
      "('working on', 82, 'iteration')\n",
      "('working on', 83, 'iteration')\n",
      "('working on', 84, 'iteration')\n",
      "('working on', 85, 'iteration')\n",
      "('working on', 86, 'iteration')\n",
      "('working on', 87, 'iteration')\n",
      "('working on', 88, 'iteration')\n",
      "('working on', 89, 'iteration')\n",
      "('working on', 90, 'iteration')\n",
      "('working on', 91, 'iteration')\n",
      "('working on', 92, 'iteration')\n",
      "('working on', 93, 'iteration')\n",
      "('working on', 94, 'iteration')\n",
      "('working on', 95, 'iteration')\n",
      "('working on', 96, 'iteration')\n",
      "('working on', 97, 'iteration')\n",
      "('working on', 98, 'iteration')\n",
      "('working on', 99, 'iteration')\n"
     ]
    }
   ],
   "source": [
    "from sklearn.model_selection import train_test_split\n",
    "from sklearn.naive_bayes import GaussianNB\n",
    "from sklearn.metrics import accuracy_score\n",
    "from sklearn.ensemble import RandomForestClassifier\n",
    "\n",
    "#2+3. Run classifier 1 and classifier 2 100 times and store the results. \n",
    "# we will multiply the random_state by i to get different samples every step, \n",
    "# but it will be the same samples in each step for both of the classifiers.\n",
    "classifier_1_preds_acc = []\n",
    "classifier_2_preds_acc = []\n",
    "for i in range(100):\n",
    "    print(\"working on\",i,\"iteration\")\n",
    "    # Split our data\n",
    "    train, test, train_labels, test_labels = train_test_split(features,\n",
    "                                                          labels,\n",
    "                                                          test_size=0.33,\n",
    "                                                          random_state=42*i)\n",
    "    # Initialize our classifier 1\n",
    "    classifier_1 = GaussianNB()\n",
    "    # Initialize our classifier 2\n",
    "    classifier_2 = RandomForestClassifier(max_depth=5, n_estimators=10, max_features=1)\n",
    "    \n",
    "    # Train our classifiers\n",
    "    classifier_1_model = classifier_1.fit(train, train_labels)\n",
    "    classifier_2_model = classifier_2.fit(train, train_labels)\n",
    "    \n",
    "    # Make predictionss\n",
    "    classifier_1_preds = classifier_1_model.predict(test)\n",
    "    classifier_2_preds = classifier_2_model.predict(test)\n",
    "\n",
    "    # Evaluate accuracy and append to relavant list\n",
    "    classifier_1_preds_acc.append(accuracy_score(test_labels, classifier_1_preds))\n",
    "    classifier_2_preds_acc.append(accuracy_score(test_labels, classifier_2_preds))\n",
    "    \n"
   ]
  },
  {
   "cell_type": "code",
   "execution_count": 17,
   "metadata": {},
   "outputs": [
    {
     "name": "stdout",
     "output_type": "stream",
     "text": [
      "Classifier 1 accuracies\n",
      "[0.92021276595744683, 0.94148936170212771, 0.94680851063829785, 0.93617021276595747, 0.92021276595744683]\n",
      "Classifier 2 accuracies\n",
      "[0.93085106382978722, 0.93617021276595747, 0.92553191489361697, 0.94148936170212771, 0.92553191489361697]\n"
     ]
    }
   ],
   "source": [
    "# Print sample of predictions\n",
    "print(\"Classifier 1 accuracies\")\n",
    "print(classifier_1_preds_acc[:5])\n",
    "print(\"Classifier 2 accuracies\")\n",
    "print(classifier_2_preds_acc[:5])"
   ]
  },
  {
   "cell_type": "markdown",
   "metadata": {},
   "source": [
    "pretty good out-of-the-box classifiers, aren't they?\n",
    "Lets print some stats about the accuracies"
   ]
  },
  {
   "cell_type": "code",
   "execution_count": 5,
   "metadata": {},
   "outputs": [
    {
     "name": "stdout",
     "output_type": "stream",
     "text": [
      "       classifier_1_acc  classifier_2_acc\n",
      "count        100.000000        100.000000\n",
      "mean           0.938883          0.946330\n",
      "std            0.014355          0.016128\n",
      "min            0.909574          0.904255\n",
      "25%            0.929521          0.936170\n",
      "50%            0.936170          0.946809\n",
      "75%            0.948138          0.957447\n",
      "max            0.973404          0.978723\n"
     ]
    }
   ],
   "source": [
    "import pandas as pd\n",
    "\n",
    "# Transform classifier accurecies to pandas dataframe and check stats\n",
    "results= pd.DataFrame({\"classifier_1_acc\":classifier_1_preds_acc,\"classifier_2_acc\":classifier_2_preds_acc})\n",
    "\n",
    "# descriptive stats\n",
    "print(results.describe())"
   ]
  },
  {
   "cell_type": "markdown",
   "metadata": {},
   "source": [
    "We can see the classifier 1 has a mean accuracy of 93 with std 1.4, and the second classifier has mean of 94 with std of 1.6.\n",
    "Lets plot them..."
   ]
  },
  {
   "cell_type": "code",
   "execution_count": 6,
   "metadata": {},
   "outputs": [
    {
     "data": {
      "image/png": "[encoded data removed]",
      "text/plain": [
       "<matplotlib.figure.Figure at 0xc26fda0>"
      ]
     },
     "metadata": {},
     "output_type": "display_data"
    },
    {
     "data": {
      "image/png": "[encoded data removed]",
      "text/plain": [
       "<matplotlib.figure.Figure at 0xcf6b8d0>"
      ]
     },
     "metadata": {},
     "output_type": "display_data"
    }
   ],
   "source": [
    "from pandas import DataFrame\n",
    "from pandas import read_csv\n",
    "from matplotlib import pyplot\n",
    "# box and whisker plot\n",
    "results.boxplot()\n",
    "pyplot.show()\n",
    "# histogram\n",
    "results.hist()\n",
    "pyplot.show()"
   ]
  },
  {
   "cell_type": "markdown",
   "metadata": {},
   "source": [
    "The plots strongly suggest that both sets of results are drawn from a bit different Gaussian distribution.<br>\n",
    "We can see that the classifiers has different means, we would like to take the one with the better mean (lets ignore the std at the moment), but what is the possibility that the difference in the mean is up to a chance (not enough iterations of the expirament) and will no hold in the outside world (more expiraments).<br>"
   ]
  },
  {
   "cell_type": "markdown",
   "metadata": {},
   "source": [
    "## Normality test\n",
    "Data drawn from a Gaussian distribution can be easier to work with as there are many tools and techniques specifically designed for this case.\n",
    "\n",
    "We can use a statistical test to confirm that the results drawn from both distributions are Gaussian (also called the normal distribution).\n",
    "\n",
    "In SciPy, this is the normaltest() function.\n",
    "\n",
    "From the documentation, the test is described as:<br>\n",
    "\"Tests whether a sample differs from a normal distribution.\"\n",
    "\n",
    "The null hypothesis of the test (H0), or the default expectation, is that the statistic describes a normal distribution.\n",
    "\n",
    "We fail to reject this hypothesis if the p-value is greater than 0.05. We reject this hypothesis if the p-value <= 0.05. In this case, we would believe the distribution is not normal with 95% confidence.\n",
    "\n",
    "The code below loads well be our first experience with p values.\n",
    "We will test if our accuracies are normally distrebuted for each classifier."
   ]
  },
  {
   "cell_type": "code",
   "execution_count": 19,
   "metadata": {},
   "outputs": [
    {
     "name": "stdout",
     "output_type": "stream",
     "text": [
      "Test classifier 1 accurecies for normality...\n",
      "(1.3211789959722915, 0.51654674145819035)\n",
      "It is likely that classifier 1 accurecies are normal\n",
      "\n",
      "\n",
      "\n",
      "Test classifier 2 accurecies for normality...\n",
      "(2.2356029452985795, 0.3269979187940622)\n",
      "It is likely that classifier 2 accurecies are normal\n"
     ]
    }
   ],
   "source": [
    "from scipy.stats import normaltest\n",
    "from matplotlib import pyplot\n",
    "\n",
    "print(\"Test classifier 1 accurecies for normality...\")\n",
    "value, p = normaltest(results[\"classifier_1_acc\"])\n",
    "print(value, p)\n",
    "if p >= 0.05:\n",
    "\tprint('It is likely that classifier 1 accurecies are normal')\n",
    "else:\n",
    "\tprint('It is unlikely that classifier 1 accurecies are normal')\n",
    "\n",
    "print\n",
    "print\n",
    "print\n",
    "print(\"Test classifier 2 accurecies for normality...\")\n",
    "value, p = normaltest(results[\"classifier_2_acc\"])\n",
    "print(value, p)\n",
    "if p >= 0.05:\n",
    "\tprint('It is likely that classifier 2 accurecies are normal')\n",
    "else:\n",
    "\tprint('It is unlikely that classifier 2 accurecies are normal')"
   ]
  },
  {
   "cell_type": "markdown",
   "metadata": {},
   "source": [
    "Yes! Both accuracies are normally distrebuted. We can use the T-test to compare them."
   ]
  },
  {
   "cell_type": "markdown",
   "metadata": {},
   "source": [
    "We will use the T-test here to calculate the p-value. We will talk more about T-test later. But we typically use T-test to determine if two sets of data are significantly different from each other.\n",
    "\n",
    "So, our null hypothesis is - Both classifiers are drawn from the same normal distrebution. (it means they have the same mean and the same std).\n",
    "Our alternative hypothesis - Both classifier are drawn from different distrebutions.\n",
    "\n",
    "Lest test it..."
   ]
  },
  {
   "cell_type": "code",
   "execution_count": 8,
   "metadata": {},
   "outputs": [
    {
     "name": "stdout",
     "output_type": "stream",
     "text": [
      "(-3.4490118700692607, 0.0006873868882030054)\n",
      "Samples are likely drawn from different distributions (reject H0)\n"
     ]
    }
   ],
   "source": [
    "from pandas import read_csv\n",
    "from scipy.stats import ttest_ind\n",
    "from matplotlib import pyplot\n",
    "\n",
    "# calculate the significance\n",
    "value, pvalue = ttest_ind(classifier_1_preds_acc, classifier_2_preds_acc, equal_var=True)\n",
    "print(value, pvalue)\n",
    "if pvalue > 0.05:\n",
    "\tprint('Samples are likely drawn from the same distributions (fail to reject H0)')\n",
    "else:\n",
    "\tprint('Samples are likely drawn from different distributions (reject H0)')"
   ]
  },
  {
   "cell_type": "markdown",
   "metadata": {},
   "source": [
    "We can see that 100 expiraments we get a p-value of 0.0006. 0.0006<0.05 so we reject the null hypothisis, means that the distrebution of the models is statistically segnificant different. It means there is a probability of 0.0006 that the models have the different distrebution due to chance. Its low enough to belive that they have different distrebutions.\n",
    "\n",
    "SO practivally, now with high confidance we will take the model with the higher mean accuracy value."
   ]
  },
  {
   "cell_type": "markdown",
   "metadata": {},
   "source": [
    "Now we will do the same thing, but after every step we will check if they are statistically segnificantly different. We want to get the minimum number of expiraments to be able to reject the null hypothesis."
   ]
  },
  {
   "cell_type": "code",
   "execution_count": 9,
   "metadata": {},
   "outputs": [
    {
     "name": "stdout",
     "output_type": "stream",
     "text": [
      "('working on', 0, 'iteration')\n",
      "(nan, nan)\n",
      "('working on', 1, 'iteration')\n",
      "(-0.24253562503632908, 0.83096914905429931)\n",
      "('working on', 2, 'iteration')\n",
      "(0.6123724356957857, 0.57339225382536063)\n",
      "('working on', 3, 'iteration')\n",
      "(0.39735970711950697, 0.70485254490956273)\n",
      "('working on', 4, 'iteration')\n",
      "(0.16903085094569012, 0.86996809586929336)\n",
      "('working on', 5, 'iteration')\n",
      "(-0.45538255553918028, 0.65856155150008533)\n",
      "('working on', 6, 'iteration')\n",
      "(-0.3973597071195008, 0.69807943322542509)"
     ]
    },
    {
     "name": "stderr",
     "output_type": "stream",
     "text": [
      "D:\\Users\\gelleral\\AppData\\Local\\Continuum\\Miniconda2\\envs\\DS_Core\\lib\\site-packages\\numpy\\core\\fromnumeric.py:3126: RuntimeWarning: Degrees of freedom <= 0 for slice\n",
      "  **kwargs)\n",
      "D:\\Users\\gelleral\\AppData\\Local\\Continuum\\Miniconda2\\envs\\DS_Core\\lib\\site-packages\\numpy\\core\\_methods.py:127: RuntimeWarning: invalid value encountered in double_scalars\n",
      "  ret = ret.dtype.type(ret / rcount)\n",
      "D:\\Users\\gelleral\\AppData\\Local\\Continuum\\Miniconda2\\envs\\DS_Core\\lib\\site-packages\\scipy\\stats\\stats.py:3851: RuntimeWarning: invalid value encountered in absolute\n",
      "  prob = distributions.t.sf(np.abs(t), df) * 2  # use np.abs to get upper tail\n",
      "D:\\Users\\gelleral\\AppData\\Local\\Continuum\\Miniconda2\\envs\\DS_Core\\lib\\site-packages\\scipy\\stats\\_distn_infrastructure.py:879: RuntimeWarning: invalid value encountered in greater\n",
      "  return (self.a < x) & (x < self.b)\n",
      "D:\\Users\\gelleral\\AppData\\Local\\Continuum\\Miniconda2\\envs\\DS_Core\\lib\\site-packages\\scipy\\stats\\_distn_infrastructure.py:879: RuntimeWarning: invalid value encountered in less\n",
      "  return (self.a < x) & (x < self.b)\n",
      "D:\\Users\\gelleral\\AppData\\Local\\Continuum\\Miniconda2\\envs\\DS_Core\\lib\\site-packages\\scipy\\stats\\_distn_infrastructure.py:1818: RuntimeWarning: invalid value encountered in less_equal\n",
      "  cond2 = cond0 & (x <= self.a)\n"
     ]
    },
    {
     "name": "stdout",
     "output_type": "stream",
     "text": [
      "\n",
      "('working on', 7, 'iteration')\n",
      "(-0.70064904974537356, 0.49500275029828655)\n",
      "('working on', 8, 'iteration')\n",
      "(-0.92858787904095086, 0.36690063477138979)\n",
      "('working on', 9, 'iteration')\n",
      "(-1.1493915422653531, 0.26543837848345031)\n",
      "('working on', 10, 'iteration')\n",
      "(-1.3482299761091632, 0.19265660986884156)\n",
      "('working on', 11, 'iteration')\n",
      "(-1.2693350909971894, 0.21758599176391252)\n",
      "('working on', 12, 'iteration')\n",
      "(-1.3064669119277743, 0.20377596825578712)\n",
      "('working on', 13, 'iteration')\n",
      "(-1.3366143281673795, 0.19292809768157915)\n",
      "('working on', 14, 'iteration')\n",
      "(-1.5266420137511916, 0.13806821901260879)\n",
      "('working on', 15, 'iteration')\n",
      "(-1.2503840109740307, 0.22082473583517725)\n",
      "('working on', 16, 'iteration')\n",
      "(-1.1870429199819625, 0.24394832204880912)\n",
      "('working on', 17, 'iteration')\n",
      "(-1.2408630947703241, 0.2231503654974647)\n",
      "('working on', 18, 'iteration')\n",
      "(-1.1844700279381166, 0.24398834722729174)\n",
      "('working on', 19, 'iteration')\n",
      "(-1.2425736414929907, 0.22163836803431333)\n",
      "('working on', 20, 'iteration')\n",
      "(-1.3722599310878916, 0.17762931496930354)\n",
      "('working on', 21, 'iteration')\n",
      "(-1.6722183643298105, 0.10191603198384469)\n",
      "('working on', 22, 'iteration')\n",
      "(-1.9672857730316939, 0.055474872028425659)\n",
      "('working on', 23, 'iteration')\n",
      "(-1.8452191839610832, 0.071448681108658652)\n",
      "('working on', 24, 'iteration')\n",
      "(-1.7781929918310375, 0.081706659968328155)\n",
      "('working on', 25, 'iteration')\n",
      "(-1.8554475162098103, 0.069431973709971964)\n",
      "('working on', 26, 'iteration')\n",
      "(-1.63585477253764, 0.10790937630271305)\n",
      "('working on', 27, 'iteration')\n",
      "(-1.5233173076938324, 0.13351463576142605)\n",
      "('working on', 28, 'iteration')\n",
      "(-1.4903535976921183, 0.14174264497643183)\n",
      "('working on', 29, 'iteration')\n",
      "(-1.3429380428987405, 0.1845239443600018)\n",
      "('working on', 30, 'iteration')\n",
      "(-1.4746256361440262, 0.14554133032181288)\n",
      "('working on', 31, 'iteration')\n",
      "(-1.3773719215144562, 0.17334956878843091)\n",
      "('working on', 32, 'iteration')\n",
      "(-1.3240485096125425, 0.19019647071612217)\n",
      "('working on', 33, 'iteration')\n",
      "(-1.4098810963632096, 0.16326997006542926)\n",
      "('working on', 34, 'iteration')\n",
      "(-1.4942136367278689, 0.13974593180152714)\n",
      "('working on', 35, 'iteration')\n",
      "(-1.6633058589917116, 0.10072252457492709)\n",
      "('working on', 36, 'iteration')\n",
      "(-1.5668637758883224, 0.12153134329686528)\n",
      "('working on', 37, 'iteration')\n",
      "(-1.6867304445181674, 0.09586687857035979)\n",
      "('working on', 38, 'iteration')\n",
      "(-1.5481164415907172, 0.12574859357207943)\n",
      "('working on', 39, 'iteration')\n",
      "(-1.5706592205961847, 0.12030980947657074)\n",
      "('working on', 40, 'iteration')\n",
      "(-1.5705027147411244, 0.12024520380502683)\n",
      "('working on', 41, 'iteration')\n",
      "(-1.3883263964217099, 0.16879783449656627)\n",
      "('working on', 42, 'iteration')\n",
      "(-1.4137465123937314, 0.1611317759628039)\n",
      "('working on', 43, 'iteration')\n",
      "(-1.42572144746243, 0.15756845933162891)\n",
      "('working on', 44, 'iteration')\n",
      "(-1.527730696073061, 0.13016594650970603)\n",
      "('working on', 45, 'iteration')\n",
      "(-1.6423857701764177, 0.10399977399923982)\n",
      "('working on', 46, 'iteration')\n",
      "(-1.4779159372470259, 0.14284571224262876)\n",
      "('working on', 47, 'iteration')\n",
      "(-1.5147213332139666, 0.13319841992073389)\n",
      "('working on', 48, 'iteration')\n",
      "(-1.4296492494607567, 0.15606403761379273)\n",
      "('working on', 49, 'iteration')\n",
      "(-1.410783647117128, 0.16147494425799649)\n",
      "('working on', 50, 'iteration')\n",
      "(-1.4728100366427781, 0.14394286621111899)\n",
      "('working on', 51, 'iteration')\n",
      "(-1.6039488504241612, 0.1118174103460369)\n",
      "('working on', 52, 'iteration')\n",
      "(-1.6381056356241539, 0.10442177732397274)\n",
      "('working on', 53, 'iteration')\n",
      "(-1.6717482689788037, 0.097523561105804193)\n",
      "('working on', 54, 'iteration')\n",
      "(-1.7371415337119578, 0.085213144153309536)\n",
      "('working on', 55, 'iteration')\n",
      "(-1.729766998647964, 0.086476816426356434)\n",
      "('working on', 56, 'iteration')\n",
      "(-1.7206417857308711, 0.088077395888083249)\n",
      "('working on', 57, 'iteration')\n",
      "(-1.7788974548052685, 0.077921827390854168)\n",
      "('working on', 58, 'iteration')\n",
      "(-1.814248556235643, 0.072224014937174938)\n",
      "('working on', 59, 'iteration')\n",
      "(-1.7689253221419083, 0.07949003086174658)\n",
      "('working on', 60, 'iteration')\n",
      "(-1.9186611413420676, 0.057402539676234939)\n",
      "('working on', 61, 'iteration')\n",
      "(-1.8135656377830114, 0.072202639329451854)\n",
      "('working on', 62, 'iteration')\n",
      "(-1.9930875946323323, 0.048447247607520769)\n",
      "('working on', 63, 'iteration')\n",
      "(-1.9555702190944146, 0.052729070012480402)\n",
      "('working on', 64, 'iteration')\n",
      "(-1.8783475543762178, 0.062608483316532945)\n",
      "('working on', 65, 'iteration')\n",
      "(-1.8851669860615758, 0.061639349765206922)\n",
      "('working on', 66, 'iteration')\n",
      "(-1.974143035122081, 0.050453264754151995)\n",
      "('working on', 67, 'iteration')\n",
      "(-1.8384125408480538, 0.068215913257248573)\n",
      "('working on', 68, 'iteration')\n",
      "(-1.9549524900056003, 0.052639566616712874)\n",
      "('working on', 69, 'iteration')\n",
      "(-2.0709813061378881, 0.040223608315927431)\n",
      "('working on', 70, 'iteration')\n",
      "(-2.1883733113031898, 0.030300700973274298)\n",
      "('working on', 71, 'iteration')\n",
      "(-2.206705207006308, 0.028940781910747677)\n",
      "('working on', 72, 'iteration')\n",
      "(-2.1893706463956626, 0.030180285874759624)\n",
      "('working on', 73, 'iteration')\n",
      "(-2.2636369209004203, 0.025070403533035523)\n",
      "('working on', 74, 'iteration')\n",
      "(-2.4274796617664323, 0.016404896526535807)\n",
      "('working on', 75, 'iteration')\n",
      "(-2.5228729900499918, 0.01268241748127738)\n",
      "('working on', 76, 'iteration')\n",
      "(-2.487320528898366, 0.013951087999957744)\n",
      "('working on', 77, 'iteration')\n",
      "(-2.6192807015830186, 0.0096926582401512529)\n",
      "('working on', 78, 'iteration')\n",
      "(-2.6360561214720866, 0.0092350223201186632)\n",
      "('working on', 79, 'iteration')\n",
      "(-2.6038230491726955, 0.010097806308337133)\n",
      "('working on', 80, 'iteration')\n",
      "(-2.7391344867808742, 0.0068592321296956568)\n",
      "('working on', 81, 'iteration')\n",
      "(-2.8418341976802308, 0.0050624878575927564)\n",
      "('working on', 82, 'iteration')\n",
      "(-3.0219002273408706, 0.0029152430462242142)\n",
      "('working on', 83, 'iteration')\n",
      "(-2.9459658360343983, 0.0036824442739258989)\n",
      "('working on', 84, 'iteration')\n",
      "(-2.8741420396978876, 0.0045751670565809871)\n",
      "('working on', 85, 'iteration')\n",
      "(-2.9565194391792393, 0.0035538551791276258)\n",
      "('working on', 86, 'iteration')\n",
      "(-3.0818211434005685, 0.0023965322146158787)\n",
      "('working on', 87, 'iteration')\n",
      "(-3.0448596542348105, 0.0026897611681884785)\n",
      "('working on', 88, 'iteration')\n",
      "(-3.0315653003119518, 0.0028003805530281583)\n",
      "('working on', 89, 'iteration')\n",
      "(-3.1558726498747265, 0.001879326069082597)\n",
      "('working on', 90, 'iteration')\n",
      "(-3.0243616164433211, 0.0028559209761422045)\n",
      "('working on', 91, 'iteration')\n",
      "(-3.0473255719261001, 0.0026524969400489166)\n",
      "('working on', 92, 'iteration')\n",
      "(-3.1452537032073979, 0.0019354012862120389)\n",
      "('working on', 93, 'iteration')\n",
      "(-3.168009918732833, 0.0017944454444708171)\n",
      "('working on', 94, 'iteration')\n",
      "(-3.1781455781464665, 0.0017332039893979013)\n",
      "('working on', 95, 'iteration')\n",
      "(-3.228742597523373, 0.0014648732187822126)\n",
      "('working on', 96, 'iteration')\n",
      "(-3.2699249453633255, 0.0012750136993758831)\n",
      "('working on', 97, 'iteration')\n",
      "(-3.4319583882591416, 0.0007323312627610806)\n",
      "('working on', 98, 'iteration')\n",
      "(-3.4295454490989301, 0.00073704427948770399)\n",
      "('working on', 99, 'iteration')\n",
      "(-3.4543565014718358, 0.00067467073361572203)\n"
     ]
    },
    {
     "data": {
      "image/png": "[encoded data removed]",
      "text/plain": [
       "<matplotlib.figure.Figure at 0xc26f7f0>"
      ]
     },
     "metadata": {},
     "output_type": "display_data"
    }
   ],
   "source": [
    "from sklearn.model_selection import train_test_split\n",
    "from sklearn.naive_bayes import GaussianNB\n",
    "from sklearn.metrics import accuracy_score\n",
    "from sklearn.ensemble import RandomForestClassifier\n",
    "\n",
    "\n",
    "from pandas import read_csv\n",
    "from scipy.stats import ttest_ind\n",
    "from matplotlib import pyplot\n",
    "\n",
    "\n",
    "classifier_1_preds_acc = []\n",
    "classifier_2_preds_acc = []\n",
    "pvalues = []\n",
    "\n",
    "for i in range(100):\n",
    "    print(\"working on\",i,\"iteration\")\n",
    "    # Split our data\n",
    "    train, test, train_labels, test_labels = train_test_split(features,\n",
    "                                                          labels,\n",
    "                                                          test_size=0.33,\n",
    "                                                          random_state=42*i)\n",
    "    # Initialize our classifier 1\n",
    "    classifier_1 = GaussianNB()\n",
    "    # Initialize our classifier 2\n",
    "    classifier_2 = RandomForestClassifier(max_depth=5, n_estimators=10, max_features=1)\n",
    "    \n",
    "    # Train our classifiers\n",
    "    classifier_1_model = classifier_1.fit(train, train_labels)\n",
    "    classifier_2_model = classifier_2.fit(train, train_labels)\n",
    "    \n",
    "    # Make predictionss\n",
    "    classifier_1_preds = classifier_1_model.predict(test)\n",
    "    classifier_2_preds = classifier_2_model.predict(test)\n",
    "\n",
    "    # Evaluate accuracy and append to relavant list\n",
    "    classifier_1_preds_acc.append(accuracy_score(test_labels, classifier_1_preds))\n",
    "    classifier_2_preds_acc.append(accuracy_score(test_labels, classifier_2_preds))\n",
    "\n",
    "    # calculate the significance\n",
    "    value, pvalue = ttest_ind(classifier_1_preds_acc, classifier_2_preds_acc, equal_var=True)\n",
    "    print(value, pvalue)\n",
    "    pvalues.append(pvalue)\n",
    "    \n",
    "# Uncomment it if you want to see the change in the trend of accepting/rejecting H0.\n",
    "#     if pvalue > 0.05:\n",
    "#         print('Samples are likely drawn from the same distributions (fail to reject H0)')\n",
    "#     else:\n",
    "#         print('Samples are likely drawn from different distributions (reject H0)')\n",
    "\n",
    "# plot p-values vs number of results in sample\n",
    "pyplot.plot(pvalues)\n",
    "# draw line at 95%, below which we reject H0\n",
    "pyplot.plot([0.05 for x in range(len(pvalues))], color='red')\n",
    "pyplot.show()"
   ]
  },
  {
   "cell_type": "code",
   "execution_count": 10,
   "metadata": {},
   "outputs": [
    {
     "data": {
      "image/png": "[encoded data removed]",
      "text/plain": [
       "<matplotlib.figure.Figure at 0xcfdeeb8>"
      ]
     },
     "metadata": {},
     "output_type": "display_data"
    }
   ],
   "source": [
    "pyplot.plot(pvalues)\n",
    "# draw line at 95%, below which we reject H0\n",
    "pyplot.plot([0.05 for x in range(len(pvalues))], color='red')\n",
    "pyplot.show()"
   ]
  },
  {
   "cell_type": "markdown",
   "metadata": {},
   "source": [
    "We can see that we need at least 60 expiraments to reject the null hypothesis.<br>\n",
    "In other words, we need at least 60 expirament to say that the distrebution of accurecies of classifier 1 is  statistically segnificantly differnt than the distrebution of accurecies of classifier 2. <br>\n"
   ]
  },
  {
   "cell_type": "markdown",
   "metadata": {},
   "source": [
    "Good source to play with mean ,sample size and compare p values distrebution\n",
    "https://marcon-laforet.shinyapps.io/P-value_Distribution_T-test/"
   ]
  },
  {
   "cell_type": "markdown",
   "metadata": {},
   "source": [
    "# P Values Are NOT the Probability of Making a Mistake\n",
    "https://www.youtube.com/watch?v=42QuXLucH3Q"
   ]
  },
  {
   "cell_type": "markdown",
   "metadata": {},
   "source": [
    "### The problem with p-values very good explanation\n",
    "https://towardsdatascience.com/a-case-study-of-the-p-value-f0d708861334<br>\n",
    "https://towardsdatascience.com/a-case-study-of-the-p-value-f0d708861334"
   ]
  },
  {
   "cell_type": "markdown",
   "metadata": {},
   "source": [
    "### Sources:\n",
    "https://www.students4bestevidence.net/p-value-in-plain-english-2/\n",
    "http://blog.minitab.com/blog/adventures-in-statistics-2/how-to-correctly-interpret-p-values\n",
    "https://towardsdatascience.com/a-case-study-of-the-p-value-f0d708861334\n",
    "https://stats.stackexchange.com/questions/286301/is-my-better-score-with-a-different-machine-learning-model-statistically-signifi<br>\n",
    "https://machinelearningmastery.com/use-statistical-significance-tests-interpret-machine-learning-results/\n",
    "https://towardsdatascience.com/data-science-simplified-hypothesis-testing-56e180ef2f71\n",
    "\n",
    "Very good article with code - https://machinelearningmastery.com/use-statistical-significance-tests-interpret-machine-learning-results/"
   ]
  },
  {
   "cell_type": "markdown",
   "metadata": {},
   "source": [
    "#### Forther reading:\n",
    "A machine learning alternative to P-values paper - https://arxiv.org/abs/1701.04944"
   ]
  }
 ],
 "metadata": {
  "kernelspec": {
   "display_name": "Python 2",
   "language": "python",
   "name": "python2"
  },
  "language_info": {
   "codemirror_mode": {
    "name": "ipython",
    "version": 2
   },
   "file_extension": ".py",
   "mimetype": "text/x-python",
   "name": "python",
   "nbconvert_exporter": "python",
   "pygments_lexer": "ipython2",
   "version": "2.7.13"
  }
 },
 "nbformat": 4,
 "nbformat_minor": 2
}
