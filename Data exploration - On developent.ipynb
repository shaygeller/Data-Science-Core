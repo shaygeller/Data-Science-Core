{
 "cells": [
  {
   "cell_type": "markdown",
   "metadata": {},
   "source": [
    "See this - https://www.nature.com/articles/nmeth.1829\n",
    "https://www.quora.com/What-is-the-importance-of-understanding-underlying-data-distributions-in-a-data-set-before-applying-any-machine-learning-algorithm-either-a-prediction-or-classification-algorithm\n",
    "\n",
    "How each of this distributions https://www.analyticsvidhya.com/blog/2017/09/6-probability-distributions-data-science/ affect data DS processes?\n"
   ]
  }
 ],
 "metadata": {
  "kernelspec": {
   "display_name": "Python 3",
   "language": "python",
   "name": "python3"
  },
  "language_info": {
   "codemirror_mode": {
    "name": "ipython",
    "version": 3
   },
   "file_extension": ".py",
   "mimetype": "text/x-python",
   "name": "python",
   "nbconvert_exporter": "python",
   "pygments_lexer": "ipython3",
   "version": "3.5.4"
  }
 },
 "nbformat": 4,
 "nbformat_minor": 2
}
